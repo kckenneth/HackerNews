{
 "cells": [
  {
   "cell_type": "markdown",
   "metadata": {},
   "source": [
    "<a href=\"http://tinypic.com?ref=s688wi\" target=\"_blank\"><img src=\"http://i67.tinypic.com/s688wi.jpg\" border=\"0\" alt=\"Image and video hosting by TinyPic\"></a>"
   ]
  },
  {
   "cell_type": "markdown",
   "metadata": {},
   "source": [
    "# Synopsis  \n",
    "\n",
    "bigquery-public-data.hacker_news.full"
   ]
  },
  {
   "cell_type": "markdown",
   "metadata": {},
   "source": [
    "# Query commands\n",
    "For standard SQL in BigQuery, use \n",
    "```\n",
    "#standardSQL\n",
    "SELECT\n",
    "FROM\n",
    "```\n",
    "\n",
    "For SQL query from CLI, don't use any of the hash comment\n",
    "```\n",
    "# From the CLI window\n",
    "bq query --use_legacy_sql=false 'SELECT FROM `table`'\n",
    "\n",
    "# In jupyter notebook\n",
    "!bq query --use_legacy_sql=false 'SELECT FROM `table`'\n",
    "\n",
    "# To return 1 millions rows if necessary \n",
    "bq query --use_legacy_sql=false --max_rows=1000000 'SELECT FROM `table`' \n",
    "\n",
    "# To save the result in csv file\n",
    "bq query --use_legacy_sql=false --max_rows=1000000 --format=csv 'SELECT FROM `table`' > myfile.csv\n",
    "```"
   ]
  },
  {
   "cell_type": "code",
   "execution_count": 95,
   "metadata": {},
   "outputs": [],
   "source": [
    "# Importing Python Libraries\n",
    "\n",
    "import redis\n",
    "import numpy as np\n",
    "import pandas as pd\n",
    "from IPython.display import Image, display\n",
    "import matplotlib.pyplot as plt\n",
    "%matplotlib inline"
   ]
  },
  {
   "cell_type": "code",
   "execution_count": null,
   "metadata": {
    "collapsed": true
   },
   "outputs": [],
   "source": []
  },
  {
   "cell_type": "markdown",
   "metadata": {},
   "source": [
    "# Number of rows"
   ]
  },
  {
   "cell_type": "code",
   "execution_count": 16,
   "metadata": {
    "scrolled": true
   },
   "outputs": [
    {
     "name": "stdout",
     "output_type": "stream",
     "text": [
      "Waiting on bqjob_r25bcc4fd55d74cec_00000164853cb026_1 ... (0s) Current status: DONE   \n",
      "+----------+\n",
      "|   f0_    |\n",
      "+----------+\n",
      "| 17108307 |\n",
      "+----------+\n"
     ]
    }
   ],
   "source": [
    "!bq query --use_legacy_sql=false \\\n",
    "'SELECT COUNT(*) \\\n",
    "FROM `bigquery-public-data.hacker_news.full`' "
   ]
  },
  {
   "cell_type": "markdown",
   "metadata": {},
   "source": [
    "# Types of Texts"
   ]
  },
  {
   "cell_type": "code",
   "execution_count": 17,
   "metadata": {},
   "outputs": [
    {
     "name": "stdout",
     "output_type": "stream",
     "text": [
      "Waiting on bqjob_r5314ae97773d0bb7_00000164853cc7d7_1 ... (0s) Current status: DONE   \n",
      "+---------+-------------+\n",
      "|  type   | total_count |\n",
      "+---------+-------------+\n",
      "| comment |    14136753 |\n",
      "| story   |     2947287 |\n",
      "| job     |       10620 |\n",
      "| pollopt |       11909 |\n",
      "| poll    |        1738 |\n",
      "+---------+-------------+\n"
     ]
    }
   ],
   "source": [
    "!bq query --use_legacy_sql=false \\\n",
    "'SELECT type, COUNT(*) as total_count \\\n",
    "FROM `bigquery-public-data.hacker_news.full` \\\n",
    "GROUP BY type'"
   ]
  },
  {
   "cell_type": "markdown",
   "metadata": {},
   "source": [
    "# Number of Users"
   ]
  },
  {
   "cell_type": "code",
   "execution_count": 18,
   "metadata": {},
   "outputs": [
    {
     "name": "stdout",
     "output_type": "stream",
     "text": [
      "Waiting on bqjob_r6166ca1ac9b61afa_00000164853d117f_1 ... (0s) Current status: DONE   \n",
      "+-----------------+\n",
      "| Number_of_Users |\n",
      "+-----------------+\n",
      "|          524637 |\n",
      "+-----------------+\n"
     ]
    }
   ],
   "source": [
    "!bq query --use_legacy_sql=false \\\n",
    "'SELECT COUNT(DISTINCT t1.by) as Number_of_Users \\\n",
    "FROM `bigquery-public-data.hacker_news.full` t1'"
   ]
  },
  {
   "cell_type": "markdown",
   "metadata": {},
   "source": [
    "# Result\n",
    "There were 17 millions from the public dataset and 5 types of comments were found;  \n",
    "    (1) comment,  \n",
    "    (2) story,  \n",
    "    (3) job,   \n",
    "    (4) pollopt and   \n",
    "    (5) poll.   \n",
    "\n",
    "Out of 17 millions, 14 millions are comments and tops the list. Total number of comments contributing to 17 millions posts are half a million (524,637) commenters. "
   ]
  },
  {
   "cell_type": "markdown",
   "metadata": {
    "collapsed": true
   },
   "source": [
    "# List of most commenters in HackerNews"
   ]
  },
  {
   "cell_type": "code",
   "execution_count": 19,
   "metadata": {},
   "outputs": [
    {
     "name": "stdout",
     "output_type": "stream",
     "text": [
      "Waiting on bqjob_r570afb1bcd3d116a_00000164853e1e21_1 ... (0s) Current status: DONE   \n",
      "+--------------+------------+\n",
      "|     User     | total_post |\n",
      "+--------------+------------+\n",
      "|              |     541464 |\n",
      "| tptacek      |      45249 |\n",
      "| jacquesm     |      34156 |\n",
      "| dragonwriter |      24017 |\n",
      "| rbanffy      |      23957 |\n",
      "| dang         |      21636 |\n",
      "| DanBC        |      20514 |\n",
      "| pjmlp        |      19083 |\n",
      "| icebraining  |      18056 |\n",
      "| mikeash      |      17968 |\n",
      "+--------------+------------+\n"
     ]
    }
   ],
   "source": [
    "!bq query --use_legacy_sql=false \\\n",
    "'SELECT t1.by as User, COUNT(*) as total_post \\\n",
    "FROM `bigquery-public-data.hacker_news.full` as t1 \\\n",
    "GROUP BY t1.by \\\n",
    "ORDER BY total_post DESC \\\n",
    "LIMIT 10'"
   ]
  },
  {
   "cell_type": "markdown",
   "metadata": {
    "collapsed": true
   },
   "source": [
    "### Result \n",
    "The user named 'tptacek' commented 45,249 posts, which is the highest posts in our data analysis. Since there are empty rows for **text** column, I checked total number of comments posted by each user. "
   ]
  },
  {
   "cell_type": "code",
   "execution_count": null,
   "metadata": {
    "collapsed": true
   },
   "outputs": [],
   "source": []
  },
  {
   "cell_type": "code",
   "execution_count": null,
   "metadata": {
    "collapsed": true
   },
   "outputs": [],
   "source": []
  },
  {
   "cell_type": "markdown",
   "metadata": {
    "collapsed": true
   },
   "source": [
    "# List of Top most commenters with actual comments"
   ]
  },
  {
   "cell_type": "code",
   "execution_count": 21,
   "metadata": {},
   "outputs": [
    {
     "name": "stdout",
     "output_type": "stream",
     "text": [
      "Waiting on bqjob_r18038bc1eac10e53_000001648540a1bd_1 ... (0s) Current status: DONE   \n",
      "+--------------+----------------+\n",
      "|    users     | total_comments |\n",
      "+--------------+----------------+\n",
      "| tptacek      |          44879 |\n",
      "| jacquesm     |          32463 |\n",
      "| dragonwriter |          24013 |\n",
      "| dang         |          21474 |\n",
      "| DanBC        |          19281 |\n",
      "| pjmlp        |          18704 |\n",
      "| icebraining  |          18025 |\n",
      "| mikeash      |          17962 |\n",
      "| coldtea      |          17662 |\n",
      "| rayiner      |          16043 |\n",
      "+--------------+----------------+\n"
     ]
    }
   ],
   "source": [
    "!bq query --use_legacy_sql=false \\\n",
    "'SELECT t1.by as users, COUNT(*) as total_comments \\\n",
    "FROM `bigquery-public-data.hacker_news.full` as t1 \\\n",
    "WHERE t1.text <> \"\" \\\n",
    "GROUP BY t1.by \\\n",
    "ORDER BY total_comments DESC \\\n",
    "LIMIT 10'"
   ]
  },
  {
   "cell_type": "markdown",
   "metadata": {},
   "source": [
    "### Result\n",
    "I found the top most commenter **tptacek** posts reduced from 45,249 to 44,879, accounting for 370 deficits in empty row. To make sure if each user has a fixed empty rows, I also checked the second most commenter **jacquesm** whose posts decreased from 34,156 to 32,463 which gave me 1,693 empty text rows. It appears many different users had different amount of empty rows for some reasons. "
   ]
  },
  {
   "cell_type": "code",
   "execution_count": 73,
   "metadata": {},
   "outputs": [
    {
     "name": "stdout",
     "output_type": "stream",
     "text": [
      "Waiting on bqjob_r2f189981223a6c33_0000016487089f37_1 ... (0s) Current status: DONE   \n",
      "+--------------+---------+-------+------+---------+------+-------+\n",
      "|     user     | comment | story | job  | pollopt | poll | Total |\n",
      "+--------------+---------+-------+------+---------+------+-------+\n",
      "| tptacek      |   44861 |     7 | NULL |      10 |    1 | 44879 |\n",
      "| jacquesm     |   32063 |   142 | NULL |     232 |   26 | 32463 |\n",
      "| dragonwriter |   24013 |  NULL | NULL |    NULL | NULL | 24013 |\n",
      "| dang         |   21434 |    17 | NULL |      22 |    1 | 21474 |\n",
      "| DanBC        |   19250 |    21 | NULL |       8 |    2 | 19281 |\n",
      "| pjmlp        |   18702 |     2 | NULL |    NULL | NULL | 18704 |\n",
      "| icebraining  |   18024 |     1 | NULL |    NULL | NULL | 18025 |\n",
      "| mikeash      |   17962 |  NULL | NULL |    NULL | NULL | 17962 |\n",
      "| coldtea      |   17659 |     3 | NULL |    NULL | NULL | 17662 |\n",
      "| rayiner      |   16041 |     2 | NULL |    NULL | NULL | 16043 |\n",
      "+--------------+---------+-------+------+---------+------+-------+\n"
     ]
    }
   ],
   "source": [
    "! bq query --use_legacy_sql=false \\\n",
    "'SELECT \\\n",
    "t1.by as user, \\\n",
    "SUM(CASE WHEN (t1.type =\"comment\") THEN 1 END) as comment, \\\n",
    "SUM(CASE WHEN (t1.type =\"story\") THEN 1 END) as story, \\\n",
    "SUM(CASE WHEN (t1.type =\"job\") THEN 1 END) as job, \\\n",
    "SUM(CASE WHEN (t1.type =\"pollopt\") THEN 1 END) as pollopt, \\\n",
    "SUM(CASE WHEN (t1.type =\"poll\") THEN 1 END) as poll, \\\n",
    "COUNT(*) as Total \\\n",
    "FROM `bigquery-public-data.hacker_news.full` as t1 \\\n",
    "WHERE t1.text <> \"\" \\\n",
    "GROUP BY t1.by \\\n",
    "ORDER BY Total DESC \\\n",
    "LIMIT 10'"
   ]
  },
  {
   "cell_type": "markdown",
   "metadata": {},
   "source": [
    "```\n",
    "+--------------+---------+-------+------+---------+------+-------+\n",
    "|     user     | comment | story | job  | pollopt | poll | Total |\n",
    "+--------------+---------+-------+------+---------+------+-------+\n",
    "| tptacek      |   44861 |     7 | NULL |      10 |    1 | 44879 |\n",
    "| jacquesm     |   32063 |   142 | NULL |     232 |   26 | 32463 |\n",
    "| dragonwriter |   24013 |  NULL | NULL |    NULL | NULL | 24013 |\n",
    "| dang         |   21434 |    17 | NULL |      22 |    1 | 21474 |\n",
    "| DanBC        |   19250 |    21 | NULL |       8 |    2 | 19281 |\n",
    "| pjmlp        |   18702 |     2 | NULL |    NULL | NULL | 18704 |\n",
    "| icebraining  |   18024 |     1 | NULL |    NULL | NULL | 18025 |\n",
    "| mikeash      |   17962 |  NULL | NULL |    NULL | NULL | 17962 |\n",
    "| coldtea      |   17659 |     3 | NULL |    NULL | NULL | 17662 |\n",
    "| rayiner      |   16041 |     2 | NULL |    NULL | NULL | 16043 |\n",
    "+--------------+---------+-------+------+---------+------+-------+\n",
    "```"
   ]
  },
   {
   "cell_type": "markdown",
   "metadata": {},
   "source": [
    "### CASE WHEN usage\n",
    "\n",
    "CASE WHEN ... THEN is similar to if then conept. You specify the conditions 'CASE', and if the condition is met, you gives the value; integer or string. For eg, CASE WHEN t1.name = 'Kenneth' THEN 'yes'. This is a string. Since we're counting, we give the integer which makes 'SUM' usable in this situation."
   ]
  },
  {
   "cell_type": "markdown",
   "metadata": {},
   "source": [
    "### Result\n",
    "\n",
    "It's interesting to know that some users are involved in all types of posts while others are actively involved in comments post only."
   ]
  },
  {
   "cell_type": "markdown",
   "metadata": {},
   "source": [
    "# Active across all posts \n",
    "\n",
    "Since there are 5 types of texts, I checked if users are actively involved in all 5 types of texts and if they are, in which type they are actively involved. Using the 5 tables join to clearly show each user participation in each type, I was able to illustrate users are mostly active in 'comments' type of texts. "
   ]
  },
  {
   "cell_type": "code",
   "execution_count": 29,
   "metadata": {},
   "outputs": [
    {
     "name": "stdout",
     "output_type": "stream",
     "text": [
      "Waiting on bqjob_r7c819cf85bb01ba5_000001648654a231_1 ... (10s) Current status: DONE   \n",
      "+--------------+---------+-------+-----+---------+------+-------+\n",
      "|     user     | comment | story | job | pollopt | poll | total |\n",
      "+--------------+---------+-------+-----+---------+------+-------+\n",
      "| mattmaroon   |    4674 |     5 |   2 |       3 |    1 |  4685 |\n",
      "| pclark       |    2309 |    26 |   2 |       7 |    2 |  2346 |\n",
      "| abstractbill |    1429 |    13 |   5 |      19 |    1 |  1467 |\n",
      "| lacker       |    1280 |     4 |   5 |      51 |    9 |  1349 |\n",
      "| il           |     670 |    11 |   6 |       3 |    1 |   691 |\n",
      "| bradgessler  |     559 |     2 |   1 |      10 |    1 |   573 |\n",
      "| bkrausz      |     368 |    14 |   1 |       7 |    2 |   392 |\n",
      "| dsugarman    |     360 |     1 |   1 |       6 |    2 |   370 |\n",
      "| petenixey    |     302 |    15 |   1 |      24 |    2 |   344 |\n",
      "| myoung8      |     291 |    35 |   5 |       4 |    1 |   336 |\n",
      "+--------------+---------+-------+-----+---------+------+-------+\n"
     ]
    }
   ],
   "source": [
    "! bq query --use_legacy_sql=false \\\n",
    "'SELECT \\\n",
    "t1.by as user, \\\n",
    "t2.total_number as comment, \\\n",
    "t3.total_number as story, \\\n",
    "t1.total_number as job, \\\n",
    "t4.total_number as pollopt, \\\n",
    "t5.total_number as poll, \\\n",
    "t1.total_number + t2.total_number + t3.total_number + t4.total_number + t5.total_number as total \\\n",
    "FROM \\\n",
    "(SELECT t1.by, COUNT(*) as total_number \\\n",
    "FROM `bigquery-public-data.hacker_news.full` as t1 \\\n",
    "where t1.type = \"job\" AND t1.text <> \"\" \\\n",
    "GROUP BY t1.by) as t1 \\\n",
    "JOIN \\\n",
    "(SELECT t1.by, COUNT(*) as total_number \\\n",
    "FROM `bigquery-public-data.hacker_news.full` as t1 \\\n",
    "WHERE t1.type = \"comment\" AND t1.text <> \"\" \\\n",
    "GROUP BY t1.by) as t2 \\\n",
    "ON t1.by = t2.by \\\n",
    "JOIN \\\n",
    "(SELECT t1.by, COUNT(*) as total_number \\\n",
    "FROM `bigquery-public-data.hacker_news.full` as t1 \\\n",
    "WHERE t1.type = \"story\" AND t1.text <> \"\" \\\n",
    "GROUP BY t1.by) as t3 \\\n",
    "ON t3.by = t1.by \\\n",
    "JOIN \\\n",
    "(SELECT t1.by, COUNT(*) as total_number \\\n",
    "FROM `bigquery-public-data.hacker_news.full` as t1 \\\n",
    "WHERE t1.type = \"pollopt\" AND t1.text <> \"\" \\\n",
    "GROUP BY t1.by) as t4 \\\n",
    "ON t4.by = t1.by \\\n",
    "JOIN \\\n",
    "(SELECT t1.by, COUNT(*) as total_number \\\n",
    "FROM `bigquery-public-data.hacker_news.full` as t1 \\\n",
    "WHERE t1.type = \"poll\" AND t1.text <> \"\" \\\n",
    "GROUP BY t1.by) as t5 \\\n",
    "ON t5.by = t1.by \\\n",
    "ORDER BY total DESC \\\n",
    "LIMIT 10'"
   ]
  },
  {
   "cell_type": "markdown",
   "metadata": {},
   "source": [
    "```\n",
    "+--------------+---------+-------+-----+---------+------+-------+\n",
    "|     user     | comment | story | job | pollopt | poll | total |\n",
    "+--------------+---------+-------+-----+---------+------+-------+\n",
    "| mattmaroon   |    4674 |     5 |   2 |       3 |    1 |  4685 |\n",
    "| pclark       |    2309 |    26 |   2 |       7 |    2 |  2346 |\n",
    "| abstractbill |    1429 |    13 |   5 |      19 |    1 |  1467 |\n",
    "| lacker       |    1280 |     4 |   5 |      51 |    9 |  1349 |\n",
    "| il           |     670 |    11 |   6 |       3 |    1 |   691 |\n",
    "| bradgessler  |     559 |     2 |   1 |      10 |    1 |   573 |\n",
    "| bkrausz      |     368 |    14 |   1 |       7 |    2 |   392 |\n",
    "| dsugarman    |     360 |     1 |   1 |       6 |    2 |   370 |\n",
    "| petenixey    |     302 |    15 |   1 |      24 |    2 |   344 |\n",
    "| myoung8      |     291 |    35 |   5 |       4 |    1 |   336 |\n",
    "+--------------+---------+-------+-----+---------+------+-------+\n",
    "```"
   ]
  },
  {
   "cell_type": "markdown",
   "metadata": {},
   "source": [
    "### Result\n",
    "User named \"mattmaroon\" is actively involved in all types of texts in HackerNews. The user was involved in 4,674 comments, 5 posts in story, 2 posts in job, 3 posts in pollopt and 1 in poll, accounting for 4,685 posts in total. In contrast to our previous results where the most highly posted user 'tptacek' who made 44,879 posts did not show up in our 'across-the-board' analysis. This indicates that some users are not involved in other aspects of HackerNews and some users are only involved in certain types of posts. "
   ]
  },
  {
   "cell_type": "code",
   "execution_count": 34,
   "metadata": {},
   "outputs": [
    {
     "name": "stdout",
     "output_type": "stream",
     "text": [
      "Waiting on bqjob_r2b80a39216c62535_0000016486bd7417_1 ... (2s) Current status: DONE   "
     ]
    }
   ],
   "source": [
    "!bq query --use_legacy_sql=false \\\n",
    "--format=csv \\\n",
    "'SELECT t1.by, t1.type, t1.time, t1.timestamp, t1.text \\\n",
    "FROM `bigquery-public-data.hacker_news.full` as t1 \\\n",
    "WHERE t1.type =\"story\" AND t1.by = \"mattmaroon\" AND t1.text <> \"\"' > hackernews.csv"
   ]
  },
  {
   "cell_type": "code",
   "execution_count": 36,
   "metadata": {
    "collapsed": true
   },
   "outputs": [],
   "source": [
    "mattmaroon_story = pd.read_csv(\"hackernews.csv\")"
   ]
  },
  {
   "cell_type": "code",
   "execution_count": 37,
   "metadata": {},
   "outputs": [
    {
     "data": {
      "text/html": [
       "<div>\n",
       "<style scoped>\n",
       "    .dataframe tbody tr th:only-of-type {\n",
       "        vertical-align: middle;\n",
       "    }\n",
       "\n",
       "    .dataframe tbody tr th {\n",
       "        vertical-align: top;\n",
       "    }\n",
       "\n",
       "    .dataframe thead th {\n",
       "        text-align: right;\n",
       "    }\n",
       "</style>\n",
       "<table border=\"1\" class=\"dataframe\">\n",
       "  <thead>\n",
       "    <tr style=\"text-align: right;\">\n",
       "      <th></th>\n",
       "      <th>by</th>\n",
       "      <th>type</th>\n",
       "      <th>time</th>\n",
       "      <th>timestamp</th>\n",
       "      <th>text</th>\n",
       "    </tr>\n",
       "  </thead>\n",
       "  <tbody>\n",
       "    <tr>\n",
       "      <th>0</th>\n",
       "      <td>mattmaroon</td>\n",
       "      <td>story</td>\n",
       "      <td>1193801557</td>\n",
       "      <td>2007-10-31 03:32:37</td>\n",
       "      <td>What do you think? We're still twiddling with ...</td>\n",
       "    </tr>\n",
       "    <tr>\n",
       "      <th>1</th>\n",
       "      <td>mattmaroon</td>\n",
       "      <td>story</td>\n",
       "      <td>1335203136</td>\n",
       "      <td>2012-04-23 17:45:36</td>\n",
       "      <td>A long time ago I wrote a couple blog posts wi...</td>\n",
       "    </tr>\n",
       "    <tr>\n",
       "      <th>2</th>\n",
       "      <td>mattmaroon</td>\n",
       "      <td>story</td>\n",
       "      <td>1210132349</td>\n",
       "      <td>2008-05-07 03:52:29</td>\n",
       "      <td>Is Google Reader bugging out today or is it ju...</td>\n",
       "    </tr>\n",
       "    <tr>\n",
       "      <th>3</th>\n",
       "      <td>mattmaroon</td>\n",
       "      <td>story</td>\n",
       "      <td>1222141435</td>\n",
       "      <td>2008-09-23 03:43:55</td>\n",
       "      <td>In order to help alleviate the perceived probl...</td>\n",
       "    </tr>\n",
       "    <tr>\n",
       "      <th>4</th>\n",
       "      <td>mattmaroon</td>\n",
       "      <td>story</td>\n",
       "      <td>1206771527</td>\n",
       "      <td>2008-03-29 06:18:47</td>\n",
       "      <td>Maybe it's just me being my curmudgeonly self,...</td>\n",
       "    </tr>\n",
       "  </tbody>\n",
       "</table>\n",
       "</div>"
      ],
      "text/plain": [
       "           by   type        time            timestamp  \\\n",
       "0  mattmaroon  story  1193801557  2007-10-31 03:32:37   \n",
       "1  mattmaroon  story  1335203136  2012-04-23 17:45:36   \n",
       "2  mattmaroon  story  1210132349  2008-05-07 03:52:29   \n",
       "3  mattmaroon  story  1222141435  2008-09-23 03:43:55   \n",
       "4  mattmaroon  story  1206771527  2008-03-29 06:18:47   \n",
       "\n",
       "                                                text  \n",
       "0  What do you think? We're still twiddling with ...  \n",
       "1  A long time ago I wrote a couple blog posts wi...  \n",
       "2  Is Google Reader bugging out today or is it ju...  \n",
       "3  In order to help alleviate the perceived probl...  \n",
       "4  Maybe it's just me being my curmudgeonly self,...  "
      ]
     },
     "execution_count": 37,
     "metadata": {},
     "output_type": "execute_result"
    }
   ],
   "source": [
    "mattmaroon_story.head()"
   ]
  },
  {
   "cell_type": "markdown",
   "metadata": {},
   "source": [
    "# Checking the user mattmaroon story comment"
   ]
  },
  {
   "cell_type": "code",
   "execution_count": 41,
   "metadata": {},
   "outputs": [
    {
     "data": {
      "text/plain": [
       "\"A long time ago I wrote a couple blog posts with advice for people who were applying/interviewing for Y Combinator. They still get quite a bit of traction every 6 months when it comes time for the latest YC batch. Every time a few intrepid founders just personally email to ask a few more questions.<p>Inspired by that and patio11's ama from a few months ago (which I hope you took him up on) I decided I'd throw my hat in the ring. If you are a prospective YC startup, feel free to email me at matt@bluefroggaming.com with questions. I'll do my best to help. I'll keep any conversations private unless you agree otherwise.<p>Also if you want a public answer, comment here.<p>Edit: This post is the main one: http://mattmaroon.com/2007/10/19/advice-for-y-combinator-interviewees/\""
      ]
     },
     "execution_count": 41,
     "metadata": {},
     "output_type": "execute_result"
    }
   ],
   "source": [
    "mattmaroon_story['text'][1]"
   ]
  },
  {
   "cell_type": "code",
   "execution_count": null,
   "metadata": {},
   "outputs": [],
   "source": []
  },
  {
   "attachments": {},
   "cell_type": "markdown",
   "metadata": {},
   "source": []
  },
  {
   "cell_type": "markdown",
   "metadata": {},
   "source": [
    "Using the \"Pivot Table\" \n",
    "SUM(CASE WHEN ()) command, it's much easier to dig the data"
   ]
  },
  {
   "cell_type": "code",
   "execution_count": 87,
   "metadata": {},
   "outputs": [
    {
     "name": "stdout",
     "output_type": "stream",
     "text": [
      "Waiting on bqjob_rf3ad7198eb9631b_00000164873c656a_1 ... (7s) Current status: DONE   "
     ]
    }
   ],
   "source": [
    "! bq query --use_legacy_sql=false \\\n",
    "--format=csv \\\n",
    "' SELECT \\\n",
    "EXTRACT(YEAR FROM t1.timestamp) as year, \\\n",
    "COUNT(*) as total_post \\\n",
    "FROM `bigquery-public-data.hacker_news.full` as t1 \\\n",
    "WHERE t1.text <> \"\" \\\n",
    "GROUP BY year \\\n",
    "ORDER BY year DESC' > yearly_posts.csv"
   ]
  },
  {
   "cell_type": "code",
   "execution_count": 88,
   "metadata": {
    "collapsed": true
   },
   "outputs": [],
   "source": [
    "yearly_posts = pd.read_csv('yearly_posts.csv')"
   ]
  },
  {
   "cell_type": "code",
   "execution_count": 89,
   "metadata": {},
   "outputs": [
    {
     "data": {
      "text/html": [
       "<div>\n",
       "<style scoped>\n",
       "    .dataframe tbody tr th:only-of-type {\n",
       "        vertical-align: middle;\n",
       "    }\n",
       "\n",
       "    .dataframe tbody tr th {\n",
       "        vertical-align: top;\n",
       "    }\n",
       "\n",
       "    .dataframe thead th {\n",
       "        text-align: right;\n",
       "    }\n",
       "</style>\n",
       "<table border=\"1\" class=\"dataframe\">\n",
       "  <thead>\n",
       "    <tr style=\"text-align: right;\">\n",
       "      <th></th>\n",
       "      <th>year</th>\n",
       "      <th>total_post</th>\n",
       "    </tr>\n",
       "  </thead>\n",
       "  <tbody>\n",
       "    <tr>\n",
       "      <th>0</th>\n",
       "      <td>2018</td>\n",
       "      <td>903529</td>\n",
       "    </tr>\n",
       "    <tr>\n",
       "      <th>1</th>\n",
       "      <td>2017</td>\n",
       "      <td>2316001</td>\n",
       "    </tr>\n",
       "    <tr>\n",
       "      <th>2</th>\n",
       "      <td>2016</td>\n",
       "      <td>2054156</td>\n",
       "    </tr>\n",
       "    <tr>\n",
       "      <th>3</th>\n",
       "      <td>2015</td>\n",
       "      <td>1614849</td>\n",
       "    </tr>\n",
       "    <tr>\n",
       "      <th>4</th>\n",
       "      <td>2014</td>\n",
       "      <td>1492540</td>\n",
       "    </tr>\n",
       "    <tr>\n",
       "      <th>5</th>\n",
       "      <td>2013</td>\n",
       "      <td>1650868</td>\n",
       "    </tr>\n",
       "    <tr>\n",
       "      <th>6</th>\n",
       "      <td>2012</td>\n",
       "      <td>1259760</td>\n",
       "    </tr>\n",
       "    <tr>\n",
       "      <th>7</th>\n",
       "      <td>2011</td>\n",
       "      <td>1067420</td>\n",
       "    </tr>\n",
       "    <tr>\n",
       "      <th>8</th>\n",
       "      <td>2010</td>\n",
       "      <td>849930</td>\n",
       "    </tr>\n",
       "    <tr>\n",
       "      <th>9</th>\n",
       "      <td>2009</td>\n",
       "      <td>499389</td>\n",
       "    </tr>\n",
       "    <tr>\n",
       "      <th>10</th>\n",
       "      <td>2008</td>\n",
       "      <td>253540</td>\n",
       "    </tr>\n",
       "    <tr>\n",
       "      <th>11</th>\n",
       "      <td>2007</td>\n",
       "      <td>72034</td>\n",
       "    </tr>\n",
       "    <tr>\n",
       "      <th>12</th>\n",
       "      <td>2006</td>\n",
       "      <td>12</td>\n",
       "    </tr>\n",
       "  </tbody>\n",
       "</table>\n",
       "</div>"
      ],
      "text/plain": [
       "    year  total_post\n",
       "0   2018      903529\n",
       "1   2017     2316001\n",
       "2   2016     2054156\n",
       "3   2015     1614849\n",
       "4   2014     1492540\n",
       "5   2013     1650868\n",
       "6   2012     1259760\n",
       "7   2011     1067420\n",
       "8   2010      849930\n",
       "9   2009      499389\n",
       "10  2008      253540\n",
       "11  2007       72034\n",
       "12  2006          12"
      ]
     },
     "metadata": {},
     "output_type": "display_data"
    }
   ],
   "source": [
    "display(yearly_posts)"
   ]
  },
  {
   "cell_type": "code",
   "execution_count": 98,
   "metadata": {},
   "outputs": [
    {
     "data": {
      "text/plain": [
       "[<matplotlib.lines.Line2D at 0x119fe7e80>]"
      ]
     },
     "execution_count": 98,
     "metadata": {},
     "output_type": "execute_result"
    },
    {
     "data": {
      "image/png": "[encoded data removed]",
      "text/plain": [
       "<Figure size 432x288 with 1 Axes>"
      ]
     },
     "metadata": {},
     "output_type": "display_data"
    }
   ],
   "source": [
    "x = year[1:]\n",
    "y = yearly_post[1:]\n",
    "plt.plot(yearly_posts['year'], yearly_posts['total_post'])"
   ]
  },
  {
   "cell_type": "markdown",
   "metadata": {},
   "source": [
    "### Result\n",
    "Since HackerNews was launched in 2007, the graph shows that the number post gradually went up and peaked at 1.65 million posts in 2013 and dipped at 1.5 million posts. The total posts went up and it now reached above 2 millions. Since we are still in 2018, the number of posts at 2018 is not reflective. "
   ]
  },
  {
   "cell_type": "code",
   "execution_count": 150,
   "metadata": {},
   "outputs": [
    {
     "data": {
      "text/plain": [
       "[<matplotlib.lines.Line2D at 0x11ad36f28>]"
      ]
     },
     "execution_count": 150,
     "metadata": {},
     "output_type": "execute_result"
    },
    {
     "data": {
      "image/png": "[encoded data removed]",
      "text/plain": [
       "<Figure size 432x288 with 1 Axes>"
      ]
     },
     "metadata": {},
     "output_type": "display_data"
    }
   ],
   "source": [
    "# Remove the year 2018 since it's still ongoing\n",
    "x = yearly_posts['year'][1:]\n",
    "y = yearly_posts['total_post'][1:]\n",
    "plt.plot(x, y)"
   ]
  },
  {
   "cell_type": "code",
   "execution_count": null,
   "metadata": {
    "collapsed": true
   },
   "outputs": [],
   "source": []
  },
  {
   "cell_type": "code",
   "execution_count": 121,
   "metadata": {},
   "outputs": [
    {
     "name": "stdout",
     "output_type": "stream",
     "text": [
      "Waiting on bqjob_r1b92362f6391aad8_0000016489c8455f_1 ... (8s) Current status: DONE   "
     ]
    }
   ],
   "source": [
    "! bq query --use_legacy_sql=false \\\n",
    "--format=csv \\\n",
    "'SELECT \\\n",
    "EXTRACT(YEAR FROM t1.timestamp) as year, \\\n",
    "SUM(CASE WHEN EXTRACT(MONTH FROM t1.timestamp) = 1 THEN 1 END) as January, \\\n",
    "SUM(CASE WHEN EXTRACT(MONTH FROM t1.timestamp) = 2 THEN 1 END) as February, \\\n",
    "SUM(CASE WHEN EXTRACT(MONTH FROM t1.timestamp) = 3 THEN 1 END) as March, \\\n",
    "SUM(CASE WHEN EXTRACT(MONTH FROM t1.timestamp) = 4 THEN 1 END) as April, \\\n",
    "SUM(CASE WHEN EXTRACT(MONTH FROM t1.timestamp) = 5 THEN 1 END) as May, \\\n",
    "SUM(CASE WHEN EXTRACT(MONTH FROM t1.timestamp) = 6 THEN 1 END) as June, \\\n",
    "SUM(CASE WHEN EXTRACT(MONTH FROM t1.timestamp) = 7 THEN 1 END) as July, \\\n",
    "SUM(CASE WHEN EXTRACT(MONTH FROM t1.timestamp) = 8 THEN 1 END) as August, \\\n",
    "SUM(CASE WHEN EXTRACT(MONTH FROM t1.timestamp) = 9 THEN 1 END) as September, \\\n",
    "SUM(CASE WHEN EXTRACT(MONTH FROM t1.timestamp) = 10 THEN 1 END) as October, \\\n",
    "SUM(CASE WHEN EXTRACT(MONTH FROM t1.timestamp) = 11 THEN 1 END) as November, \\\n",
    "SUM(CASE WHEN EXTRACT(MONTH FROM t1.timestamp) = 12 THEN 1 END) as December, \\\n",
    "COUNT(*) as total_post \\\n",
    "FROM `bigquery-public-data.hacker_news.full` as t1 \\\n",
    "WHERE t1.text <> \"\" \\\n",
    "GROUP BY year \\\n",
    "ORDER BY year DESC' > monthly_posts.csv"
   ]
  },
  {
   "cell_type": "code",
   "execution_count": 122,
   "metadata": {
    "collapsed": true
   },
   "outputs": [],
   "source": [
    "monthly_posts = pd.read_csv('monthly_posts.csv')"
   ]
  },
  {
   "cell_type": "code",
   "execution_count": 123,
   "metadata": {},
   "outputs": [
    {
     "data": {
      "text/html": [
       "<div>\n",
       "<style scoped>\n",
       "    .dataframe tbody tr th:only-of-type {\n",
       "        vertical-align: middle;\n",
       "    }\n",
       "\n",
       "    .dataframe tbody tr th {\n",
       "        vertical-align: top;\n",
       "    }\n",
       "\n",
       "    .dataframe thead th {\n",
       "        text-align: right;\n",
       "    }\n",
       "</style>\n",
       "<table border=\"1\" class=\"dataframe\">\n",
       "  <thead>\n",
       "    <tr style=\"text-align: right;\">\n",
       "      <th></th>\n",
       "      <th>year</th>\n",
       "      <th>January</th>\n",
       "      <th>February</th>\n",
       "      <th>March</th>\n",
       "      <th>April</th>\n",
       "      <th>May</th>\n",
       "      <th>June</th>\n",
       "      <th>July</th>\n",
       "      <th>August</th>\n",
       "      <th>September</th>\n",
       "      <th>October</th>\n",
       "      <th>November</th>\n",
       "      <th>December</th>\n",
       "      <th>total_post</th>\n",
       "    </tr>\n",
       "  </thead>\n",
       "  <tbody>\n",
       "    <tr>\n",
       "      <th>0</th>\n",
       "      <td>2018</td>\n",
       "      <td>198665.0</td>\n",
       "      <td>177218.0</td>\n",
       "      <td>200881.0</td>\n",
       "      <td>202569.0</td>\n",
       "      <td>124196.0</td>\n",
       "      <td>NaN</td>\n",
       "      <td>NaN</td>\n",
       "      <td>NaN</td>\n",
       "      <td>NaN</td>\n",
       "      <td>NaN</td>\n",
       "      <td>NaN</td>\n",
       "      <td>NaN</td>\n",
       "      <td>903529</td>\n",
       "    </tr>\n",
       "    <tr>\n",
       "      <th>1</th>\n",
       "      <td>2017</td>\n",
       "      <td>204546.0</td>\n",
       "      <td>187091.0</td>\n",
       "      <td>208561.0</td>\n",
       "      <td>189326.0</td>\n",
       "      <td>185543.0</td>\n",
       "      <td>181944.0</td>\n",
       "      <td>186955.0</td>\n",
       "      <td>210802.0</td>\n",
       "      <td>195386.0</td>\n",
       "      <td>186273.0</td>\n",
       "      <td>188871.0</td>\n",
       "      <td>190703.0</td>\n",
       "      <td>2316001</td>\n",
       "    </tr>\n",
       "    <tr>\n",
       "      <th>2</th>\n",
       "      <td>2016</td>\n",
       "      <td>153470.0</td>\n",
       "      <td>155270.0</td>\n",
       "      <td>165793.0</td>\n",
       "      <td>168085.0</td>\n",
       "      <td>172166.0</td>\n",
       "      <td>167963.0</td>\n",
       "      <td>154628.0</td>\n",
       "      <td>168319.0</td>\n",
       "      <td>179520.0</td>\n",
       "      <td>189879.0</td>\n",
       "      <td>196903.0</td>\n",
       "      <td>182160.0</td>\n",
       "      <td>2054156</td>\n",
       "    </tr>\n",
       "    <tr>\n",
       "      <th>3</th>\n",
       "      <td>2015</td>\n",
       "      <td>125586.0</td>\n",
       "      <td>117592.0</td>\n",
       "      <td>141586.0</td>\n",
       "      <td>135462.0</td>\n",
       "      <td>136281.0</td>\n",
       "      <td>141046.0</td>\n",
       "      <td>143461.0</td>\n",
       "      <td>134144.0</td>\n",
       "      <td>126601.0</td>\n",
       "      <td>141162.0</td>\n",
       "      <td>135815.0</td>\n",
       "      <td>136113.0</td>\n",
       "      <td>1614849</td>\n",
       "    </tr>\n",
       "    <tr>\n",
       "      <th>4</th>\n",
       "      <td>2014</td>\n",
       "      <td>136969.0</td>\n",
       "      <td>133864.0</td>\n",
       "      <td>151389.0</td>\n",
       "      <td>142274.0</td>\n",
       "      <td>122979.0</td>\n",
       "      <td>114502.0</td>\n",
       "      <td>120970.0</td>\n",
       "      <td>107600.0</td>\n",
       "      <td>114089.0</td>\n",
       "      <td>120974.0</td>\n",
       "      <td>110871.0</td>\n",
       "      <td>116059.0</td>\n",
       "      <td>1492540</td>\n",
       "    </tr>\n",
       "  </tbody>\n",
       "</table>\n",
       "</div>"
      ],
      "text/plain": [
       "   year   January  February     March     April       May      June      July  \\\n",
       "0  2018  198665.0  177218.0  200881.0  202569.0  124196.0       NaN       NaN   \n",
       "1  2017  204546.0  187091.0  208561.0  189326.0  185543.0  181944.0  186955.0   \n",
       "2  2016  153470.0  155270.0  165793.0  168085.0  172166.0  167963.0  154628.0   \n",
       "3  2015  125586.0  117592.0  141586.0  135462.0  136281.0  141046.0  143461.0   \n",
       "4  2014  136969.0  133864.0  151389.0  142274.0  122979.0  114502.0  120970.0   \n",
       "\n",
       "     August  September   October  November  December  total_post  \n",
       "0       NaN        NaN       NaN       NaN       NaN      903529  \n",
       "1  210802.0   195386.0  186273.0  188871.0  190703.0     2316001  \n",
       "2  168319.0   179520.0  189879.0  196903.0  182160.0     2054156  \n",
       "3  134144.0   126601.0  141162.0  135815.0  136113.0     1614849  \n",
       "4  107600.0   114089.0  120974.0  110871.0  116059.0     1492540  "
      ]
     },
     "execution_count": 123,
     "metadata": {},
     "output_type": "execute_result"
    }
   ],
   "source": [
    "monthly_posts.head()"
   ]
  },
  {
   "cell_type": "code",
   "execution_count": 124,
   "metadata": {
    "collapsed": true
   },
   "outputs": [],
   "source": [
    "monthly_posts = monthly_posts[1:]"
   ]
  },
  {
   "cell_type": "code",
   "execution_count": 125,
   "metadata": {},
   "outputs": [
    {
     "data": {
      "text/html": [
       "<div>\n",
       "<style scoped>\n",
       "    .dataframe tbody tr th:only-of-type {\n",
       "        vertical-align: middle;\n",
       "    }\n",
       "\n",
       "    .dataframe tbody tr th {\n",
       "        vertical-align: top;\n",
       "    }\n",
       "\n",
       "    .dataframe thead th {\n",
       "        text-align: right;\n",
       "    }\n",
       "</style>\n",
       "<table border=\"1\" class=\"dataframe\">\n",
       "  <thead>\n",
       "    <tr style=\"text-align: right;\">\n",
       "      <th></th>\n",
       "      <th>year</th>\n",
       "      <th>January</th>\n",
       "      <th>February</th>\n",
       "      <th>March</th>\n",
       "      <th>April</th>\n",
       "      <th>May</th>\n",
       "      <th>June</th>\n",
       "      <th>July</th>\n",
       "      <th>August</th>\n",
       "      <th>September</th>\n",
       "      <th>October</th>\n",
       "      <th>November</th>\n",
       "      <th>December</th>\n",
       "      <th>total_post</th>\n",
       "    </tr>\n",
       "  </thead>\n",
       "  <tbody>\n",
       "    <tr>\n",
       "      <th>1</th>\n",
       "      <td>2017</td>\n",
       "      <td>204546.0</td>\n",
       "      <td>187091.0</td>\n",
       "      <td>208561.0</td>\n",
       "      <td>189326.0</td>\n",
       "      <td>185543.0</td>\n",
       "      <td>181944.0</td>\n",
       "      <td>186955.0</td>\n",
       "      <td>210802.0</td>\n",
       "      <td>195386.0</td>\n",
       "      <td>186273.0</td>\n",
       "      <td>188871.0</td>\n",
       "      <td>190703.0</td>\n",
       "      <td>2316001</td>\n",
       "    </tr>\n",
       "    <tr>\n",
       "      <th>2</th>\n",
       "      <td>2016</td>\n",
       "      <td>153470.0</td>\n",
       "      <td>155270.0</td>\n",
       "      <td>165793.0</td>\n",
       "      <td>168085.0</td>\n",
       "      <td>172166.0</td>\n",
       "      <td>167963.0</td>\n",
       "      <td>154628.0</td>\n",
       "      <td>168319.0</td>\n",
       "      <td>179520.0</td>\n",
       "      <td>189879.0</td>\n",
       "      <td>196903.0</td>\n",
       "      <td>182160.0</td>\n",
       "      <td>2054156</td>\n",
       "    </tr>\n",
       "    <tr>\n",
       "      <th>3</th>\n",
       "      <td>2015</td>\n",
       "      <td>125586.0</td>\n",
       "      <td>117592.0</td>\n",
       "      <td>141586.0</td>\n",
       "      <td>135462.0</td>\n",
       "      <td>136281.0</td>\n",
       "      <td>141046.0</td>\n",
       "      <td>143461.0</td>\n",
       "      <td>134144.0</td>\n",
       "      <td>126601.0</td>\n",
       "      <td>141162.0</td>\n",
       "      <td>135815.0</td>\n",
       "      <td>136113.0</td>\n",
       "      <td>1614849</td>\n",
       "    </tr>\n",
       "    <tr>\n",
       "      <th>4</th>\n",
       "      <td>2014</td>\n",
       "      <td>136969.0</td>\n",
       "      <td>133864.0</td>\n",
       "      <td>151389.0</td>\n",
       "      <td>142274.0</td>\n",
       "      <td>122979.0</td>\n",
       "      <td>114502.0</td>\n",
       "      <td>120970.0</td>\n",
       "      <td>107600.0</td>\n",
       "      <td>114089.0</td>\n",
       "      <td>120974.0</td>\n",
       "      <td>110871.0</td>\n",
       "      <td>116059.0</td>\n",
       "      <td>1492540</td>\n",
       "    </tr>\n",
       "    <tr>\n",
       "      <th>5</th>\n",
       "      <td>2013</td>\n",
       "      <td>127706.0</td>\n",
       "      <td>125192.0</td>\n",
       "      <td>138687.0</td>\n",
       "      <td>135286.0</td>\n",
       "      <td>136788.0</td>\n",
       "      <td>136031.0</td>\n",
       "      <td>140615.0</td>\n",
       "      <td>141988.0</td>\n",
       "      <td>136840.0</td>\n",
       "      <td>147264.0</td>\n",
       "      <td>144425.0</td>\n",
       "      <td>140046.0</td>\n",
       "      <td>1650868</td>\n",
       "    </tr>\n",
       "  </tbody>\n",
       "</table>\n",
       "</div>"
      ],
      "text/plain": [
       "   year   January  February     March     April       May      June      July  \\\n",
       "1  2017  204546.0  187091.0  208561.0  189326.0  185543.0  181944.0  186955.0   \n",
       "2  2016  153470.0  155270.0  165793.0  168085.0  172166.0  167963.0  154628.0   \n",
       "3  2015  125586.0  117592.0  141586.0  135462.0  136281.0  141046.0  143461.0   \n",
       "4  2014  136969.0  133864.0  151389.0  142274.0  122979.0  114502.0  120970.0   \n",
       "5  2013  127706.0  125192.0  138687.0  135286.0  136788.0  136031.0  140615.0   \n",
       "\n",
       "     August  September   October  November  December  total_post  \n",
       "1  210802.0   195386.0  186273.0  188871.0  190703.0     2316001  \n",
       "2  168319.0   179520.0  189879.0  196903.0  182160.0     2054156  \n",
       "3  134144.0   126601.0  141162.0  135815.0  136113.0     1614849  \n",
       "4  107600.0   114089.0  120974.0  110871.0  116059.0     1492540  \n",
       "5  141988.0   136840.0  147264.0  144425.0  140046.0     1650868  "
      ]
     },
     "execution_count": 125,
     "metadata": {},
     "output_type": "execute_result"
    }
   ],
   "source": [
    "monthly_posts.head()"
   ]
  },
  {
   "cell_type": "code",
   "execution_count": null,
   "metadata": {
    "collapsed": true
   },
   "outputs": [],
   "source": []
  },
  {
   "cell_type": "markdown",
   "metadata": {},
   "source": [
    "# Histogram with overlapped bars"
   ]
  },
  {
   "cell_type": "code",
   "execution_count": 174,
   "metadata": {},
   "outputs": [],
   "source": [
    "x_year = monthly_posts['year']"
   ]
  },
  {
   "cell_type": "code",
   "execution_count": 179,
   "metadata": {},
   "outputs": [],
   "source": [
    "january = monthly_posts['January']\n",
    "february = monthly_posts['February']\n",
    "march = monthly_posts['March']\n",
    "april = monthly_posts['April']\n",
    "may = monthly_posts['May']\n",
    "june = monthly_posts['June']\n",
    "july = monthly_posts['July']\n",
    "august = monthly_posts['August']\n",
    "september = monthly_posts['September']\n",
    "october = monthly_posts['October']\n",
    "november = monthly_posts['November']\n",
    "december = monthly_posts['December']\n",
    "months = [january, february, march, april, may, june, july, august, september, october, november, december]"
   ]
  },
  {
   "cell_type": "code",
   "execution_count": 178,
   "metadata": {},
   "outputs": [
    {
     "data": {
      "image/png": "[encoded data removed]",
      "text/plain": [
       "<Figure size 432x288 with 1 Axes>"
      ]
     },
     "metadata": {},
     "output_type": "display_data"
    }
   ],
   "source": [
    "plt.bar(x_year, january, color='b')\n",
    "plt.bar(x_year, february, color='r')\n",
    "plt.bar(x_year, march, color='g')\n",
    "plt.bar(x_year, april, color='b')\n",
    "plt.bar(x_year, may, color='g')\n",
    "plt.bar(x_year, june, color='b')\n",
    "plt.bar(x_year, july, color='r')\n",
    "plt.bar(x_year, august, color= 'b')\n",
    "plt.bar(x_year, september, color='g')\n",
    "plt.bar(x_year, october, color='m')\n",
    "plt.bar(x_year, november, color='b')\n",
    "plt.bar(x_year, december, color='r')\n",
    "plt.show()"
   ]
  },
  {
   "cell_type": "code",
   "execution_count": 271,
   "metadata": {},
   "outputs": [
    {
     "ename": "TypeError",
     "evalue": "__init__() got an unexpected keyword argument 'figuresize'",
     "output_type": "error",
     "traceback": [
      "\u001b[0;31m---------------------------------------------------------------------------\u001b[0m",
      "\u001b[0;31mTypeError\u001b[0m                                 Traceback (most recent call last)",
      "\u001b[0;32m<ipython-input-271-a8a9ca591c28>\u001b[0m in \u001b[0;36m<module>\u001b[0;34m()\u001b[0m\n\u001b[1;32m     14\u001b[0m \u001b[0mplt\u001b[0m\u001b[0;34m.\u001b[0m\u001b[0mfigure\u001b[0m\u001b[0;34m(\u001b[0m\u001b[0mfigsize\u001b[0m\u001b[0;34m=\u001b[0m\u001b[0;34m(\u001b[0m\u001b[0;36m500\u001b[0m\u001b[0;34m,\u001b[0m\u001b[0;36m300\u001b[0m\u001b[0;34m)\u001b[0m\u001b[0;34m)\u001b[0m\u001b[0;34m\u001b[0m\u001b[0m\n\u001b[1;32m     15\u001b[0m \u001b[0;34m\u001b[0m\u001b[0m\n\u001b[0;32m---> 16\u001b[0;31m \u001b[0mfig\u001b[0m \u001b[0;34m=\u001b[0m \u001b[0mplt\u001b[0m\u001b[0;34m.\u001b[0m\u001b[0mfigure\u001b[0m\u001b[0;34m(\u001b[0m\u001b[0mfiguresize\u001b[0m\u001b[0;34m=\u001b[0m\u001b[0;34m(\u001b[0m\u001b[0;36m400\u001b[0m\u001b[0;34m,\u001b[0m \u001b[0;36m300\u001b[0m\u001b[0;34m)\u001b[0m\u001b[0;34m)\u001b[0m\u001b[0;34m\u001b[0m\u001b[0m\n\u001b[0m\u001b[1;32m     17\u001b[0m \u001b[0mplt\u001b[0m\u001b[0;34m.\u001b[0m\u001b[0msavefig\u001b[0m\u001b[0;34m(\u001b[0m\u001b[0;34m'mon.png'\u001b[0m\u001b[0;34m)\u001b[0m\u001b[0;34m\u001b[0m\u001b[0m\n",
      "\u001b[0;32m/Library/Frameworks/Python.framework/Versions/3.6/lib/python3.6/site-packages/matplotlib/pyplot.py\u001b[0m in \u001b[0;36mfigure\u001b[0;34m(num, figsize, dpi, facecolor, edgecolor, frameon, FigureClass, clear, **kwargs)\u001b[0m\n\u001b[1;32m    546\u001b[0m                                         \u001b[0mframeon\u001b[0m\u001b[0;34m=\u001b[0m\u001b[0mframeon\u001b[0m\u001b[0;34m,\u001b[0m\u001b[0;34m\u001b[0m\u001b[0m\n\u001b[1;32m    547\u001b[0m                                         \u001b[0mFigureClass\u001b[0m\u001b[0;34m=\u001b[0m\u001b[0mFigureClass\u001b[0m\u001b[0;34m,\u001b[0m\u001b[0;34m\u001b[0m\u001b[0m\n\u001b[0;32m--> 548\u001b[0;31m                                         **kwargs)\n\u001b[0m\u001b[1;32m    549\u001b[0m \u001b[0;34m\u001b[0m\u001b[0m\n\u001b[1;32m    550\u001b[0m         \u001b[0;32mif\u001b[0m \u001b[0mfigLabel\u001b[0m\u001b[0;34m:\u001b[0m\u001b[0;34m\u001b[0m\u001b[0m\n",
      "\u001b[0;32m/Library/Frameworks/Python.framework/Versions/3.6/lib/python3.6/site-packages/matplotlib/backend_bases.py\u001b[0m in \u001b[0;36mnew_figure_manager\u001b[0;34m(cls, num, *args, **kwargs)\u001b[0m\n\u001b[1;32m    158\u001b[0m         \u001b[0;32mfrom\u001b[0m \u001b[0mmatplotlib\u001b[0m\u001b[0;34m.\u001b[0m\u001b[0mfigure\u001b[0m \u001b[0;32mimport\u001b[0m \u001b[0mFigure\u001b[0m\u001b[0;34m\u001b[0m\u001b[0m\n\u001b[1;32m    159\u001b[0m         \u001b[0mfig_cls\u001b[0m \u001b[0;34m=\u001b[0m \u001b[0mkwargs\u001b[0m\u001b[0;34m.\u001b[0m\u001b[0mpop\u001b[0m\u001b[0;34m(\u001b[0m\u001b[0;34m'FigureClass'\u001b[0m\u001b[0;34m,\u001b[0m \u001b[0mFigure\u001b[0m\u001b[0;34m)\u001b[0m\u001b[0;34m\u001b[0m\u001b[0m\n\u001b[0;32m--> 160\u001b[0;31m         \u001b[0mfig\u001b[0m \u001b[0;34m=\u001b[0m \u001b[0mfig_cls\u001b[0m\u001b[0;34m(\u001b[0m\u001b[0;34m*\u001b[0m\u001b[0margs\u001b[0m\u001b[0;34m,\u001b[0m \u001b[0;34m**\u001b[0m\u001b[0mkwargs\u001b[0m\u001b[0;34m)\u001b[0m\u001b[0;34m\u001b[0m\u001b[0m\n\u001b[0m\u001b[1;32m    161\u001b[0m         \u001b[0;32mreturn\u001b[0m \u001b[0mcls\u001b[0m\u001b[0;34m.\u001b[0m\u001b[0mnew_figure_manager_given_figure\u001b[0m\u001b[0;34m(\u001b[0m\u001b[0mnum\u001b[0m\u001b[0;34m,\u001b[0m \u001b[0mfig\u001b[0m\u001b[0;34m)\u001b[0m\u001b[0;34m\u001b[0m\u001b[0m\n\u001b[1;32m    162\u001b[0m \u001b[0;34m\u001b[0m\u001b[0m\n",
      "\u001b[0;31mTypeError\u001b[0m: __init__() got an unexpected keyword argument 'figuresize'"
     ]
    },
    {
     "data": {
      "image/png": "[encoded data removed]",
      "text/plain": [
       "<Figure size 432x288 with 1 Axes>"
      ]
     },
     "metadata": {},
     "output_type": "display_data"
    },
    {
     "data": {
      "text/plain": [
       "<Figure size 36000x21600 with 0 Axes>"
      ]
     },
     "metadata": {},
     "output_type": "display_data"
    }
   ],
   "source": [
    "plt.bar(x_year + 0.00, months[0], color = 'b', width = 0.2)\n",
    "plt.bar(x_year + 0.20, months[1], color = 'g', width = 0.2)\n",
    "plt.bar(x_year + 0.40, months[2], color = 'r', width = 0.2)\n",
    "plt.bar(x_year + 0.60, months[3], color = 'black', width = 0.2)\n",
    "plt.bar(x_year + 0.80, months[4], color = 'b', width = 0.2)\n",
    "plt.bar(x_year + 1.00, months[5], color = 'g', width = 0.2)\n",
    "plt.bar(x_year + 1.20, months[6], color = 'r', width = 0.2)\n",
    "plt.bar(x_year + 1.40, months[7], color = 'orange', width = 0.2)\n",
    "plt.bar(x_year + 1.80, months[8], color = 'b', width = 0.2)\n",
    "plt.bar(x_year + 2.00, months[9], color = 'g', width = 0.2)\n",
    "plt.bar(x_year + 2.20, months[10], color = 'r', width = 0.2)\n",
    "plt.bar(x_year + 2.40, months[11], color = 'orange', width = 0.2)\n",
    "plt.xticks(list(range(2006, 2017,1))) \n",
    "plt.figure(figsize=(500,300))\n",
    "\n",
    "fig = plt.figure(figuresize=(400, 300))\n",
    "plt.savefig('mon.png')"
   ]
  },
  {
   "cell_type": "code",
   "execution_count": 268,
   "metadata": {},
   "outputs": [
    {
     "ename": "NameError",
     "evalue": "name 'fig' is not defined",
     "output_type": "error",
     "traceback": [
      "\u001b[0;31m---------------------------------------------------------------------------\u001b[0m",
      "\u001b[0;31mNameError\u001b[0m                                 Traceback (most recent call last)",
      "\u001b[0;32m<ipython-input-268-bfbed569dfbf>\u001b[0m in \u001b[0;36m<module>\u001b[0;34m()\u001b[0m\n\u001b[0;32m----> 1\u001b[0;31m \u001b[0mfig\u001b[0m\u001b[0;34m.\u001b[0m\u001b[0msavefig\u001b[0m\u001b[0;34m(\u001b[0m\u001b[0;34m\"months.pdf\"\u001b[0m\u001b[0;34m)\u001b[0m\u001b[0;34m\u001b[0m\u001b[0m\n\u001b[0m",
      "\u001b[0;31mNameError\u001b[0m: name 'fig' is not defined"
     ]
    }
   ],
   "source": [
    "fig.savefig(\"months.pdf\")"
   ]
  },
  {
   "cell_type": "code",
   "execution_count": 273,
   "metadata": {},
   "outputs": [
    {
     "data": {
      "text/plain": [
       "<Figure size 432x288 with 0 Axes>"
      ]
     },
     "metadata": {},
     "output_type": "display_data"
    }
   ],
   "source": [
    "plt.savefig('foo.png')"
   ]
  },
  {
   "cell_type": "code",
   "execution_count": null,
   "metadata": {
    "collapsed": true
   },
   "outputs": [],
   "source": []
  },
  {
   "cell_type": "code",
   "execution_count": null,
   "metadata": {
    "collapsed": true
   },
   "outputs": [],
   "source": []
  },
  {
   "cell_type": "code",
   "execution_count": null,
   "metadata": {
    "collapsed": true
   },
   "outputs": [],
   "source": []
  },
  {
   "cell_type": "markdown",
   "metadata": {},
   "source": [
    "# Summary\n",
    "\n",
    "There were 17 millions from the public dataset and 5 types of comments were found;  \n",
    "    (1) comment,  \n",
    "    (2) story,  \n",
    "    (3) job,   \n",
    "    (4) pollopt and   \n",
    "    (5) poll.   \n",
    "\n",
    "Out of 17 millions, 14 millions are comments and tops the list. Total number of comments contributing to 17 millions posts are half a million (524,637) commenters. There are 17,108,307 news and 524,637 users on HackerNews. The user named 'tptacek' commented 45,249 posts, which is the highest posts in our data analysis. User named \"mattmaroon\" is actively involved in all types of texts in HackerNews. The user was involved in 4,674 comments, 5 posts in story, 2 posts in job, 3 posts in pollopt and 1 in poll, accounting for 4,685 posts in total. In contrast to our previous results where the most highly posted user 'tptacek' who made 44,879 posts did not show up in our 'across-the-board' analysis. This indicates that some users are not involved in other aspects of HackerNews and some users are only involved in certain types of posts.\n",
    "\n"
   ]
  },
  {
   "cell_type": "code",
   "execution_count": null,
   "metadata": {},
   "outputs": [],
   "source": []
  },
  {
   "cell_type": "markdown",
   "metadata": {},
   "source": [
    "### Note  \n",
    "Since the user column was labeled as 'by', to avoid the clash, I named the table as t1 and called the user number by t1.by.  \n",
    "In text column, there are empty rows, not **NULL** row. In order to remove those rows in my counting mode, I used t1.text <> \"\".\n",
    "\n",
    "**Multi-table Joins**, superb for all users across all boards\n",
    "\n",
    "```\n",
    "SELECT\n",
    "FROM\n",
    "    (SELECT \n",
    "    FROM ) as t1\n",
    "JOIN\n",
    "    (SELECT \n",
    "    FROM ) as t2\n",
    "ON \n",
    "t1 = t2\n",
    "JOIN \n",
    "    (SELECT\n",
    "    FROM ) as t3\n",
    "ON\n",
    "t1 = t3\n",
    "```\n",
    "\n",
    "FROM StackOverflow\n",
    "\n",
    "```\n",
    "SELECT TableA.*, TableB.*, TableC.*, TableD.*\n",
    "FROM TableA\n",
    "    JOIN TableB\n",
    "        ON TableB.aID = TableA.aID\n",
    "    JOIN TableC\n",
    "        ON TableC.cID = TableB.cID\n",
    "    JOIN TableD\n",
    "        ON TableD.dID = TableA.dID\n",
    "WHERE DATE(TableC.date)=date(now()) \n",
    "```\n",
    "\n",
    "Or **Pivot Table** Superb for rolling out multiple rows (groups) into a single row\n",
    "\n",
    "```\n",
    "SELECT \n",
    "   SUM(CASE WHEN(t1.type =\"comment\") THEN 1 END) as comment,\n",
    "   SUM(CASE WHEN(t1.type =\"story\") THEN 1 END) as story,\n",
    "   SUM(CASE WHEN(t1.type =\"job\") THEN 1 END) as job\n",
    "FROM table as t1\n",
    "GROUP BY\n",
    "   t1.user\n",
    "```\n",
    "\n",
    "When you query in CLI with a back slash, make sure there's no extra white space. It will throw an error. \n"
   ]
  }
 ],
 "metadata": {
  "kernelspec": {
   "display_name": "Python 3",
   "language": "python",
   "name": "python3"
  },
  "language_info": {
   "codemirror_mode": {
    "name": "ipython",
    "version": 3
   },
   "file_extension": ".py",
   "mimetype": "text/x-python",
   "name": "python",
   "nbconvert_exporter": "python",
   "pygments_lexer": "ipython3",
   "version": "3.6.5"
  }
 },
 "nbformat": 4,
 "nbformat_minor": 2
}
